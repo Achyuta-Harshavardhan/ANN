{
  "nbformat": 4,
  "nbformat_minor": 0,
  "metadata": {
    "colab": {
      "name": "ANN.ipynb",
      "provenance": [],
      "mount_file_id": "1vLEtltX3Gan0BkUtV7SrupJnskZW6hGj",
      "authorship_tag": "ABX9TyPBopu3kawHAuv5ayDjEZH8",
      "include_colab_link": true
    },
    "kernelspec": {
      "name": "python3",
      "display_name": "Python 3"
    },
    "accelerator": "GPU"
  },
  "cells": [
    {
      "cell_type": "markdown",
      "metadata": {
        "id": "view-in-github",
        "colab_type": "text"
      },
      "source": [
        "<a href=\"https://colab.research.google.com/github/Achyuta-Harshavardhan/ANN/blob/main/ANN.ipynb\" target=\"_parent\"><img src=\"https://colab.research.google.com/assets/colab-badge.svg\" alt=\"Open In Colab\"/></a>"
      ]
    },
    {
      "cell_type": "code",
      "metadata": {
        "id": "S9TSTflq68e2"
      },
      "source": [
        "# Importing the libraries\n",
        "import tensorflow as tf\n",
        "import pandas as pd"
      ],
      "execution_count": null,
      "outputs": []
    },
    {
      "cell_type": "code",
      "metadata": {
        "id": "T0pTGu7P7dLW"
      },
      "source": [
        "# Importing the dataset\n",
        "dataset = pd.read_csv('/content/drive/MyDrive/Deep Learning/Dataset/Churn_Modelling.csv')"
      ],
      "execution_count": null,
      "outputs": []
    },
    {
      "cell_type": "code",
      "metadata": {
        "colab": {
          "base_uri": "https://localhost:8080/",
          "height": 224
        },
        "id": "uSTGo37_8hHc",
        "outputId": "a73dfa81-6569-4479-d709-de299ecd8336"
      },
      "source": [
        "dataset.head()"
      ],
      "execution_count": null,
      "outputs": [
        {
          "output_type": "execute_result",
          "data": {
            "text/html": [
              "<div>\n",
              "<style scoped>\n",
              "    .dataframe tbody tr th:only-of-type {\n",
              "        vertical-align: middle;\n",
              "    }\n",
              "\n",
              "    .dataframe tbody tr th {\n",
              "        vertical-align: top;\n",
              "    }\n",
              "\n",
              "    .dataframe thead th {\n",
              "        text-align: right;\n",
              "    }\n",
              "</style>\n",
              "<table border=\"1\" class=\"dataframe\">\n",
              "  <thead>\n",
              "    <tr style=\"text-align: right;\">\n",
              "      <th></th>\n",
              "      <th>RowNumber</th>\n",
              "      <th>CustomerId</th>\n",
              "      <th>Surname</th>\n",
              "      <th>CreditScore</th>\n",
              "      <th>Geography</th>\n",
              "      <th>Gender</th>\n",
              "      <th>Age</th>\n",
              "      <th>Tenure</th>\n",
              "      <th>Balance</th>\n",
              "      <th>NumOfProducts</th>\n",
              "      <th>HasCrCard</th>\n",
              "      <th>IsActiveMember</th>\n",
              "      <th>EstimatedSalary</th>\n",
              "      <th>Exited</th>\n",
              "    </tr>\n",
              "  </thead>\n",
              "  <tbody>\n",
              "    <tr>\n",
              "      <th>0</th>\n",
              "      <td>1</td>\n",
              "      <td>15634602</td>\n",
              "      <td>Hargrave</td>\n",
              "      <td>619</td>\n",
              "      <td>France</td>\n",
              "      <td>Female</td>\n",
              "      <td>42</td>\n",
              "      <td>2</td>\n",
              "      <td>0.00</td>\n",
              "      <td>1</td>\n",
              "      <td>1</td>\n",
              "      <td>1</td>\n",
              "      <td>101348.88</td>\n",
              "      <td>1</td>\n",
              "    </tr>\n",
              "    <tr>\n",
              "      <th>1</th>\n",
              "      <td>2</td>\n",
              "      <td>15647311</td>\n",
              "      <td>Hill</td>\n",
              "      <td>608</td>\n",
              "      <td>Spain</td>\n",
              "      <td>Female</td>\n",
              "      <td>41</td>\n",
              "      <td>1</td>\n",
              "      <td>83807.86</td>\n",
              "      <td>1</td>\n",
              "      <td>0</td>\n",
              "      <td>1</td>\n",
              "      <td>112542.58</td>\n",
              "      <td>0</td>\n",
              "    </tr>\n",
              "    <tr>\n",
              "      <th>2</th>\n",
              "      <td>3</td>\n",
              "      <td>15619304</td>\n",
              "      <td>Onio</td>\n",
              "      <td>502</td>\n",
              "      <td>France</td>\n",
              "      <td>Female</td>\n",
              "      <td>42</td>\n",
              "      <td>8</td>\n",
              "      <td>159660.80</td>\n",
              "      <td>3</td>\n",
              "      <td>1</td>\n",
              "      <td>0</td>\n",
              "      <td>113931.57</td>\n",
              "      <td>1</td>\n",
              "    </tr>\n",
              "    <tr>\n",
              "      <th>3</th>\n",
              "      <td>4</td>\n",
              "      <td>15701354</td>\n",
              "      <td>Boni</td>\n",
              "      <td>699</td>\n",
              "      <td>France</td>\n",
              "      <td>Female</td>\n",
              "      <td>39</td>\n",
              "      <td>1</td>\n",
              "      <td>0.00</td>\n",
              "      <td>2</td>\n",
              "      <td>0</td>\n",
              "      <td>0</td>\n",
              "      <td>93826.63</td>\n",
              "      <td>0</td>\n",
              "    </tr>\n",
              "    <tr>\n",
              "      <th>4</th>\n",
              "      <td>5</td>\n",
              "      <td>15737888</td>\n",
              "      <td>Mitchell</td>\n",
              "      <td>850</td>\n",
              "      <td>Spain</td>\n",
              "      <td>Female</td>\n",
              "      <td>43</td>\n",
              "      <td>2</td>\n",
              "      <td>125510.82</td>\n",
              "      <td>1</td>\n",
              "      <td>1</td>\n",
              "      <td>1</td>\n",
              "      <td>79084.10</td>\n",
              "      <td>0</td>\n",
              "    </tr>\n",
              "  </tbody>\n",
              "</table>\n",
              "</div>"
            ],
            "text/plain": [
              "   RowNumber  CustomerId   Surname  ...  IsActiveMember EstimatedSalary Exited\n",
              "0          1    15634602  Hargrave  ...               1       101348.88      1\n",
              "1          2    15647311      Hill  ...               1       112542.58      0\n",
              "2          3    15619304      Onio  ...               0       113931.57      1\n",
              "3          4    15701354      Boni  ...               0        93826.63      0\n",
              "4          5    15737888  Mitchell  ...               1        79084.10      0\n",
              "\n",
              "[5 rows x 14 columns]"
            ]
          },
          "metadata": {
            "tags": []
          },
          "execution_count": 3
        }
      ]
    },
    {
      "cell_type": "code",
      "metadata": {
        "id": "v_YfyqgS8nOh"
      },
      "source": [
        "x = dataset.iloc[:,3:13]\n",
        "y = dataset.iloc[:,13]"
      ],
      "execution_count": null,
      "outputs": []
    },
    {
      "cell_type": "code",
      "metadata": {
        "id": "Fj8kM-5C82vF"
      },
      "source": [
        "# Create dummy variables\n",
        "geography = pd.get_dummies(x['Geography'],drop_first=True)\n",
        "gender = pd.get_dummies(x['Gender'],drop_first=True)"
      ],
      "execution_count": null,
      "outputs": []
    },
    {
      "cell_type": "code",
      "metadata": {
        "id": "lCv37VxK9qsa"
      },
      "source": [
        "# Concatenate the Data Frames\n",
        "x = pd.concat([x,geography,gender],axis=1)"
      ],
      "execution_count": null,
      "outputs": []
    },
    {
      "cell_type": "code",
      "metadata": {
        "id": "eMGE5sNm94J5"
      },
      "source": [
        "# Drop Unnecessary columns\n",
        "x = x.drop(['Geography','Gender'],axis=1)"
      ],
      "execution_count": null,
      "outputs": []
    },
    {
      "cell_type": "code",
      "metadata": {
        "id": "7uyJWFpJ-D72"
      },
      "source": [
        "# Splitting the dataset into the Training set and Test set\n",
        "from sklearn.model_selection import train_test_split\n",
        "x_train,x_test,y_train,y_test = train_test_split(x,y,test_size=0.2,random_state=0)"
      ],
      "execution_count": null,
      "outputs": []
    },
    {
      "cell_type": "code",
      "metadata": {
        "id": "o2nbS8mV-Xj4"
      },
      "source": [
        "# Feature Scaling\n",
        "from sklearn.preprocessing import StandardScaler\n",
        "sc = StandardScaler()\n",
        "x_train = sc.fit_transform(x_train)\n",
        "x_test = sc.fit_transform(x_test)"
      ],
      "execution_count": null,
      "outputs": []
    },
    {
      "cell_type": "code",
      "metadata": {
        "id": "YOFRZ5_K-zKM"
      },
      "source": [
        "from tensorflow.keras.models import Sequential\n",
        "from tensorflow.keras.layers import Dense\n",
        "\n",
        "model = Sequential()\n",
        "model.add(Dense(6,activation='relu',kernel_initializer='he_uniform',input_dim=11))\n",
        "model.add(Dense(6,activation='relu',kernel_initializer='he_uniform'))\n",
        "model.add(Dense(1,kernel_initializer='glorot_uniform',activation='sigmoid'))"
      ],
      "execution_count": null,
      "outputs": []
    },
    {
      "cell_type": "code",
      "metadata": {
        "id": "4EEcXZfv_TVa"
      },
      "source": [
        "# Compiling the ANN\n",
        "model.compile(optimizer='Adam',loss='binary_crossentropy',metrics=['accuracy'])"
      ],
      "execution_count": null,
      "outputs": []
    },
    {
      "cell_type": "code",
      "metadata": {
        "colab": {
          "base_uri": "https://localhost:8080/"
        },
        "id": "GVNeispABCKs",
        "outputId": "86a97053-347a-440b-b550-14a533b73979"
      },
      "source": [
        "# Fitting the ANN to the Training set\n",
        "model_history = model.fit(x_train,y_train,batch_size=10,epochs=100,validation_split=0.3)"
      ],
      "execution_count": null,
      "outputs": [
        {
          "output_type": "stream",
          "text": [
            "Epoch 1/100\n",
            "560/560 [==============================] - 1s 3ms/step - loss: 0.5407 - accuracy: 0.7755 - val_loss: 0.4657 - val_accuracy: 0.7958\n",
            "Epoch 2/100\n",
            "560/560 [==============================] - 1s 2ms/step - loss: 0.4450 - accuracy: 0.7964 - val_loss: 0.4413 - val_accuracy: 0.7937\n",
            "Epoch 3/100\n",
            "560/560 [==============================] - 1s 2ms/step - loss: 0.4310 - accuracy: 0.8046 - val_loss: 0.4346 - val_accuracy: 0.8029\n",
            "Epoch 4/100\n",
            "560/560 [==============================] - 1s 2ms/step - loss: 0.4245 - accuracy: 0.8066 - val_loss: 0.4304 - val_accuracy: 0.8100\n",
            "Epoch 5/100\n",
            "560/560 [==============================] - 1s 2ms/step - loss: 0.4186 - accuracy: 0.8123 - val_loss: 0.4252 - val_accuracy: 0.8129\n",
            "Epoch 6/100\n",
            "560/560 [==============================] - 1s 2ms/step - loss: 0.4121 - accuracy: 0.8161 - val_loss: 0.4216 - val_accuracy: 0.8138\n",
            "Epoch 7/100\n",
            "560/560 [==============================] - 1s 2ms/step - loss: 0.4068 - accuracy: 0.8191 - val_loss: 0.4162 - val_accuracy: 0.8183\n",
            "Epoch 8/100\n",
            "560/560 [==============================] - 1s 2ms/step - loss: 0.4018 - accuracy: 0.8255 - val_loss: 0.4131 - val_accuracy: 0.8196\n",
            "Epoch 9/100\n",
            "560/560 [==============================] - 1s 2ms/step - loss: 0.3973 - accuracy: 0.8280 - val_loss: 0.4127 - val_accuracy: 0.8183\n",
            "Epoch 10/100\n",
            "560/560 [==============================] - 1s 2ms/step - loss: 0.3946 - accuracy: 0.8311 - val_loss: 0.4099 - val_accuracy: 0.8217\n",
            "Epoch 11/100\n",
            "560/560 [==============================] - 1s 2ms/step - loss: 0.3909 - accuracy: 0.8293 - val_loss: 0.4098 - val_accuracy: 0.8196\n",
            "Epoch 12/100\n",
            "560/560 [==============================] - 1s 2ms/step - loss: 0.3886 - accuracy: 0.8321 - val_loss: 0.4072 - val_accuracy: 0.8175\n",
            "Epoch 13/100\n",
            "560/560 [==============================] - 1s 2ms/step - loss: 0.3858 - accuracy: 0.8323 - val_loss: 0.4050 - val_accuracy: 0.8183\n",
            "Epoch 14/100\n",
            "560/560 [==============================] - 1s 2ms/step - loss: 0.3825 - accuracy: 0.8348 - val_loss: 0.4003 - val_accuracy: 0.8217\n",
            "Epoch 15/100\n",
            "560/560 [==============================] - 1s 2ms/step - loss: 0.3785 - accuracy: 0.8361 - val_loss: 0.3984 - val_accuracy: 0.8208\n",
            "Epoch 16/100\n",
            "560/560 [==============================] - 1s 2ms/step - loss: 0.3748 - accuracy: 0.8382 - val_loss: 0.3928 - val_accuracy: 0.8250\n",
            "Epoch 17/100\n",
            "560/560 [==============================] - 1s 2ms/step - loss: 0.3701 - accuracy: 0.8393 - val_loss: 0.3890 - val_accuracy: 0.8304\n",
            "Epoch 18/100\n",
            "560/560 [==============================] - 1s 2ms/step - loss: 0.3664 - accuracy: 0.8400 - val_loss: 0.3862 - val_accuracy: 0.8292\n",
            "Epoch 19/100\n",
            "560/560 [==============================] - 1s 2ms/step - loss: 0.3628 - accuracy: 0.8446 - val_loss: 0.3827 - val_accuracy: 0.8308\n",
            "Epoch 20/100\n",
            "560/560 [==============================] - 1s 2ms/step - loss: 0.3589 - accuracy: 0.8441 - val_loss: 0.3784 - val_accuracy: 0.8375\n",
            "Epoch 21/100\n",
            "560/560 [==============================] - 1s 2ms/step - loss: 0.3564 - accuracy: 0.8457 - val_loss: 0.3760 - val_accuracy: 0.8392\n",
            "Epoch 22/100\n",
            "560/560 [==============================] - 1s 2ms/step - loss: 0.3541 - accuracy: 0.8471 - val_loss: 0.3738 - val_accuracy: 0.8413\n",
            "Epoch 23/100\n",
            "560/560 [==============================] - 1s 2ms/step - loss: 0.3511 - accuracy: 0.8491 - val_loss: 0.3741 - val_accuracy: 0.8413\n",
            "Epoch 24/100\n",
            "560/560 [==============================] - 1s 2ms/step - loss: 0.3500 - accuracy: 0.8493 - val_loss: 0.3705 - val_accuracy: 0.8454\n",
            "Epoch 25/100\n",
            "560/560 [==============================] - 1s 2ms/step - loss: 0.3477 - accuracy: 0.8537 - val_loss: 0.3697 - val_accuracy: 0.8462\n",
            "Epoch 26/100\n",
            "560/560 [==============================] - 1s 2ms/step - loss: 0.3464 - accuracy: 0.8562 - val_loss: 0.3691 - val_accuracy: 0.8429\n",
            "Epoch 27/100\n",
            "560/560 [==============================] - 1s 2ms/step - loss: 0.3443 - accuracy: 0.8550 - val_loss: 0.3663 - val_accuracy: 0.8487\n",
            "Epoch 28/100\n",
            "560/560 [==============================] - 1s 2ms/step - loss: 0.3433 - accuracy: 0.8577 - val_loss: 0.3663 - val_accuracy: 0.8483\n",
            "Epoch 29/100\n",
            "560/560 [==============================] - 1s 2ms/step - loss: 0.3423 - accuracy: 0.8580 - val_loss: 0.3664 - val_accuracy: 0.8475\n",
            "Epoch 30/100\n",
            "560/560 [==============================] - 1s 2ms/step - loss: 0.3421 - accuracy: 0.8557 - val_loss: 0.3645 - val_accuracy: 0.8487\n",
            "Epoch 31/100\n",
            "560/560 [==============================] - 1s 2ms/step - loss: 0.3410 - accuracy: 0.8589 - val_loss: 0.3647 - val_accuracy: 0.8450\n",
            "Epoch 32/100\n",
            "560/560 [==============================] - 1s 2ms/step - loss: 0.3407 - accuracy: 0.8618 - val_loss: 0.3637 - val_accuracy: 0.8446\n",
            "Epoch 33/100\n",
            "560/560 [==============================] - 1s 2ms/step - loss: 0.3395 - accuracy: 0.8591 - val_loss: 0.3638 - val_accuracy: 0.8442\n",
            "Epoch 34/100\n",
            "560/560 [==============================] - 1s 2ms/step - loss: 0.3390 - accuracy: 0.8600 - val_loss: 0.3643 - val_accuracy: 0.8429\n",
            "Epoch 35/100\n",
            "560/560 [==============================] - 1s 2ms/step - loss: 0.3390 - accuracy: 0.8596 - val_loss: 0.3622 - val_accuracy: 0.8483\n",
            "Epoch 36/100\n",
            "560/560 [==============================] - 1s 2ms/step - loss: 0.3381 - accuracy: 0.8602 - val_loss: 0.3652 - val_accuracy: 0.8454\n",
            "Epoch 37/100\n",
            "560/560 [==============================] - 1s 2ms/step - loss: 0.3381 - accuracy: 0.8620 - val_loss: 0.3626 - val_accuracy: 0.8408\n",
            "Epoch 38/100\n",
            "560/560 [==============================] - 1s 2ms/step - loss: 0.3378 - accuracy: 0.8604 - val_loss: 0.3601 - val_accuracy: 0.8483\n",
            "Epoch 39/100\n",
            "560/560 [==============================] - 1s 2ms/step - loss: 0.3373 - accuracy: 0.8595 - val_loss: 0.3609 - val_accuracy: 0.8475\n",
            "Epoch 40/100\n",
            "560/560 [==============================] - 1s 2ms/step - loss: 0.3370 - accuracy: 0.8632 - val_loss: 0.3614 - val_accuracy: 0.8529\n",
            "Epoch 41/100\n",
            "560/560 [==============================] - 1s 2ms/step - loss: 0.3367 - accuracy: 0.8621 - val_loss: 0.3611 - val_accuracy: 0.8521\n",
            "Epoch 42/100\n",
            "560/560 [==============================] - 1s 2ms/step - loss: 0.3367 - accuracy: 0.8630 - val_loss: 0.3601 - val_accuracy: 0.8479\n",
            "Epoch 43/100\n",
            "560/560 [==============================] - 1s 2ms/step - loss: 0.3361 - accuracy: 0.8630 - val_loss: 0.3605 - val_accuracy: 0.8504\n",
            "Epoch 44/100\n",
            "560/560 [==============================] - 1s 2ms/step - loss: 0.3362 - accuracy: 0.8636 - val_loss: 0.3597 - val_accuracy: 0.8542\n",
            "Epoch 45/100\n",
            "560/560 [==============================] - 1s 2ms/step - loss: 0.3363 - accuracy: 0.8643 - val_loss: 0.3616 - val_accuracy: 0.8517\n",
            "Epoch 46/100\n",
            "560/560 [==============================] - 1s 2ms/step - loss: 0.3357 - accuracy: 0.8630 - val_loss: 0.3606 - val_accuracy: 0.8517\n",
            "Epoch 47/100\n",
            "560/560 [==============================] - 1s 2ms/step - loss: 0.3357 - accuracy: 0.8618 - val_loss: 0.3611 - val_accuracy: 0.8521\n",
            "Epoch 48/100\n",
            "560/560 [==============================] - 1s 2ms/step - loss: 0.3354 - accuracy: 0.8634 - val_loss: 0.3603 - val_accuracy: 0.8492\n",
            "Epoch 49/100\n",
            "560/560 [==============================] - 1s 2ms/step - loss: 0.3351 - accuracy: 0.8629 - val_loss: 0.3589 - val_accuracy: 0.8521\n",
            "Epoch 50/100\n",
            "560/560 [==============================] - 1s 2ms/step - loss: 0.3355 - accuracy: 0.8629 - val_loss: 0.3596 - val_accuracy: 0.8508\n",
            "Epoch 51/100\n",
            "560/560 [==============================] - 1s 2ms/step - loss: 0.3345 - accuracy: 0.8612 - val_loss: 0.3584 - val_accuracy: 0.8529\n",
            "Epoch 52/100\n",
            "560/560 [==============================] - 1s 2ms/step - loss: 0.3344 - accuracy: 0.8646 - val_loss: 0.3603 - val_accuracy: 0.8517\n",
            "Epoch 53/100\n",
            "560/560 [==============================] - 1s 3ms/step - loss: 0.3335 - accuracy: 0.8623 - val_loss: 0.3606 - val_accuracy: 0.8537\n",
            "Epoch 54/100\n",
            "560/560 [==============================] - 2s 3ms/step - loss: 0.3346 - accuracy: 0.8629 - val_loss: 0.3595 - val_accuracy: 0.8508\n",
            "Epoch 55/100\n",
            "560/560 [==============================] - 2s 3ms/step - loss: 0.3342 - accuracy: 0.8650 - val_loss: 0.3595 - val_accuracy: 0.8521\n",
            "Epoch 56/100\n",
            "560/560 [==============================] - 2s 3ms/step - loss: 0.3344 - accuracy: 0.8609 - val_loss: 0.3607 - val_accuracy: 0.8496\n",
            "Epoch 57/100\n",
            "560/560 [==============================] - 2s 3ms/step - loss: 0.3342 - accuracy: 0.8632 - val_loss: 0.3591 - val_accuracy: 0.8525\n",
            "Epoch 58/100\n",
            "560/560 [==============================] - 2s 3ms/step - loss: 0.3336 - accuracy: 0.8661 - val_loss: 0.3587 - val_accuracy: 0.8508\n",
            "Epoch 59/100\n",
            "560/560 [==============================] - 2s 3ms/step - loss: 0.3340 - accuracy: 0.8641 - val_loss: 0.3606 - val_accuracy: 0.8508\n",
            "Epoch 60/100\n",
            "560/560 [==============================] - 1s 3ms/step - loss: 0.3336 - accuracy: 0.8634 - val_loss: 0.3590 - val_accuracy: 0.8525\n",
            "Epoch 61/100\n",
            "560/560 [==============================] - 1s 2ms/step - loss: 0.3332 - accuracy: 0.8609 - val_loss: 0.3604 - val_accuracy: 0.8529\n",
            "Epoch 62/100\n",
            "560/560 [==============================] - 1s 2ms/step - loss: 0.3332 - accuracy: 0.8637 - val_loss: 0.3594 - val_accuracy: 0.8529\n",
            "Epoch 63/100\n",
            "560/560 [==============================] - 1s 2ms/step - loss: 0.3336 - accuracy: 0.8625 - val_loss: 0.3589 - val_accuracy: 0.8533\n",
            "Epoch 64/100\n",
            "560/560 [==============================] - 1s 2ms/step - loss: 0.3330 - accuracy: 0.8643 - val_loss: 0.3584 - val_accuracy: 0.8529\n",
            "Epoch 65/100\n",
            "560/560 [==============================] - 1s 2ms/step - loss: 0.3323 - accuracy: 0.8632 - val_loss: 0.3581 - val_accuracy: 0.8537\n",
            "Epoch 66/100\n",
            "560/560 [==============================] - 1s 2ms/step - loss: 0.3335 - accuracy: 0.8641 - val_loss: 0.3585 - val_accuracy: 0.8537\n",
            "Epoch 67/100\n",
            "560/560 [==============================] - 1s 2ms/step - loss: 0.3333 - accuracy: 0.8650 - val_loss: 0.3584 - val_accuracy: 0.8533\n",
            "Epoch 68/100\n",
            "560/560 [==============================] - 1s 2ms/step - loss: 0.3329 - accuracy: 0.8625 - val_loss: 0.3613 - val_accuracy: 0.8525\n",
            "Epoch 69/100\n",
            "560/560 [==============================] - 1s 2ms/step - loss: 0.3331 - accuracy: 0.8632 - val_loss: 0.3573 - val_accuracy: 0.8542\n",
            "Epoch 70/100\n",
            "560/560 [==============================] - 1s 2ms/step - loss: 0.3323 - accuracy: 0.8621 - val_loss: 0.3615 - val_accuracy: 0.8537\n",
            "Epoch 71/100\n",
            "560/560 [==============================] - 1s 2ms/step - loss: 0.3325 - accuracy: 0.8614 - val_loss: 0.3572 - val_accuracy: 0.8533\n",
            "Epoch 72/100\n",
            "560/560 [==============================] - 1s 2ms/step - loss: 0.3324 - accuracy: 0.8625 - val_loss: 0.3577 - val_accuracy: 0.8533\n",
            "Epoch 73/100\n",
            "560/560 [==============================] - 1s 2ms/step - loss: 0.3325 - accuracy: 0.8641 - val_loss: 0.3588 - val_accuracy: 0.8537\n",
            "Epoch 74/100\n",
            "560/560 [==============================] - 1s 2ms/step - loss: 0.3321 - accuracy: 0.8650 - val_loss: 0.3601 - val_accuracy: 0.8517\n",
            "Epoch 75/100\n",
            "560/560 [==============================] - 1s 2ms/step - loss: 0.3325 - accuracy: 0.8625 - val_loss: 0.3593 - val_accuracy: 0.8529\n",
            "Epoch 76/100\n",
            "560/560 [==============================] - 1s 3ms/step - loss: 0.3321 - accuracy: 0.8627 - val_loss: 0.3587 - val_accuracy: 0.8517\n",
            "Epoch 77/100\n",
            "560/560 [==============================] - 1s 3ms/step - loss: 0.3323 - accuracy: 0.8645 - val_loss: 0.3583 - val_accuracy: 0.8537\n",
            "Epoch 78/100\n",
            "560/560 [==============================] - 1s 2ms/step - loss: 0.3324 - accuracy: 0.8641 - val_loss: 0.3581 - val_accuracy: 0.8533\n",
            "Epoch 79/100\n",
            "560/560 [==============================] - 1s 2ms/step - loss: 0.3316 - accuracy: 0.8637 - val_loss: 0.3579 - val_accuracy: 0.8521\n",
            "Epoch 80/100\n",
            "560/560 [==============================] - 1s 2ms/step - loss: 0.3326 - accuracy: 0.8645 - val_loss: 0.3577 - val_accuracy: 0.8525\n",
            "Epoch 81/100\n",
            "560/560 [==============================] - 1s 2ms/step - loss: 0.3323 - accuracy: 0.8627 - val_loss: 0.3573 - val_accuracy: 0.8537\n",
            "Epoch 82/100\n",
            "560/560 [==============================] - 1s 2ms/step - loss: 0.3321 - accuracy: 0.8618 - val_loss: 0.3568 - val_accuracy: 0.8546\n",
            "Epoch 83/100\n",
            "560/560 [==============================] - 1s 2ms/step - loss: 0.3319 - accuracy: 0.8632 - val_loss: 0.3575 - val_accuracy: 0.8512\n",
            "Epoch 84/100\n",
            "560/560 [==============================] - 1s 2ms/step - loss: 0.3316 - accuracy: 0.8632 - val_loss: 0.3590 - val_accuracy: 0.8537\n",
            "Epoch 85/100\n",
            "560/560 [==============================] - 1s 2ms/step - loss: 0.3315 - accuracy: 0.8632 - val_loss: 0.3573 - val_accuracy: 0.8542\n",
            "Epoch 86/100\n",
            "560/560 [==============================] - 1s 2ms/step - loss: 0.3319 - accuracy: 0.8632 - val_loss: 0.3567 - val_accuracy: 0.8550\n",
            "Epoch 87/100\n",
            "560/560 [==============================] - 1s 2ms/step - loss: 0.3310 - accuracy: 0.8625 - val_loss: 0.3582 - val_accuracy: 0.8529\n",
            "Epoch 88/100\n",
            "560/560 [==============================] - 1s 2ms/step - loss: 0.3321 - accuracy: 0.8646 - val_loss: 0.3574 - val_accuracy: 0.8550\n",
            "Epoch 89/100\n",
            "560/560 [==============================] - 1s 2ms/step - loss: 0.3322 - accuracy: 0.8637 - val_loss: 0.3569 - val_accuracy: 0.8537\n",
            "Epoch 90/100\n",
            "560/560 [==============================] - 1s 2ms/step - loss: 0.3316 - accuracy: 0.8630 - val_loss: 0.3570 - val_accuracy: 0.8525\n",
            "Epoch 91/100\n",
            "560/560 [==============================] - 1s 2ms/step - loss: 0.3314 - accuracy: 0.8654 - val_loss: 0.3575 - val_accuracy: 0.8525\n",
            "Epoch 92/100\n",
            "560/560 [==============================] - 1s 2ms/step - loss: 0.3313 - accuracy: 0.8636 - val_loss: 0.3583 - val_accuracy: 0.8521\n",
            "Epoch 93/100\n",
            "560/560 [==============================] - 1s 2ms/step - loss: 0.3316 - accuracy: 0.8646 - val_loss: 0.3572 - val_accuracy: 0.8529\n",
            "Epoch 94/100\n",
            "560/560 [==============================] - 1s 2ms/step - loss: 0.3311 - accuracy: 0.8645 - val_loss: 0.3571 - val_accuracy: 0.8525\n",
            "Epoch 95/100\n",
            "560/560 [==============================] - 1s 2ms/step - loss: 0.3311 - accuracy: 0.8623 - val_loss: 0.3580 - val_accuracy: 0.8533\n",
            "Epoch 96/100\n",
            "560/560 [==============================] - 1s 3ms/step - loss: 0.3310 - accuracy: 0.8654 - val_loss: 0.3577 - val_accuracy: 0.8546\n",
            "Epoch 97/100\n",
            "560/560 [==============================] - 1s 3ms/step - loss: 0.3311 - accuracy: 0.8643 - val_loss: 0.3576 - val_accuracy: 0.8537\n",
            "Epoch 98/100\n",
            "560/560 [==============================] - 1s 3ms/step - loss: 0.3314 - accuracy: 0.8639 - val_loss: 0.3572 - val_accuracy: 0.8550\n",
            "Epoch 99/100\n",
            "560/560 [==============================] - 1s 3ms/step - loss: 0.3313 - accuracy: 0.8648 - val_loss: 0.3578 - val_accuracy: 0.8533\n",
            "Epoch 100/100\n",
            "560/560 [==============================] - 1s 2ms/step - loss: 0.3309 - accuracy: 0.8643 - val_loss: 0.3570 - val_accuracy: 0.8558\n"
          ],
          "name": "stdout"
        }
      ]
    },
    {
      "cell_type": "code",
      "metadata": {
        "id": "2G9kAKfcBVgt"
      },
      "source": [
        "# Making the predictions and evaluating the model\n",
        "y_pred = model.predict(x_test)\n",
        "y_pred = y_pred>0.5"
      ],
      "execution_count": null,
      "outputs": []
    },
    {
      "cell_type": "code",
      "metadata": {
        "colab": {
          "base_uri": "https://localhost:8080/"
        },
        "id": "ToOBP0IcCC3B",
        "outputId": "4ddb18a7-a9e7-44b0-fcdc-4c0ea7084ed4"
      },
      "source": [
        "from sklearn.metrics import confusion_matrix,accuracy_score\n",
        "cm = confusion_matrix(y_test,y_pred)\n",
        "cm"
      ],
      "execution_count": null,
      "outputs": [
        {
          "output_type": "execute_result",
          "data": {
            "text/plain": [
              "array([[1520,   75],\n",
              "       [ 199,  206]])"
            ]
          },
          "metadata": {
            "tags": []
          },
          "execution_count": 27
        }
      ]
    },
    {
      "cell_type": "code",
      "metadata": {
        "colab": {
          "base_uri": "https://localhost:8080/"
        },
        "id": "ulDoQwO3CLoL",
        "outputId": "0dbe7d7d-1210-45c6-da44-76055192d5dd"
      },
      "source": [
        "acc = accuracy_score(y_test,y_pred)\n",
        "acc"
      ],
      "execution_count": null,
      "outputs": [
        {
          "output_type": "execute_result",
          "data": {
            "text/plain": [
              "0.863"
            ]
          },
          "metadata": {
            "tags": []
          },
          "execution_count": 28
        }
      ]
    },
    {
      "cell_type": "code",
      "metadata": {
        "colab": {
          "base_uri": "https://localhost:8080/",
          "height": 590
        },
        "id": "Zr0R6Rw8DBau",
        "outputId": "38b395fa-8777-4eb8-8b82-250d64f40568"
      },
      "source": [
        "from matplotlib import pyplot as plt\n",
        "# list all data in history\n",
        "\n",
        "print(model_history.history.keys())\n",
        "# summarize history for accuracy\n",
        "plt.plot(model_history.history['accuracy'])\n",
        "plt.plot(model_history.history['val_accuracy'])\n",
        "plt.title('model accuracy')\n",
        "plt.ylabel('accuracy')\n",
        "plt.xlabel('epoch')\n",
        "plt.legend(['train', 'test'], loc='upper left')\n",
        "plt.show()\n",
        "\n",
        "# summarize history for loss\n",
        "plt.plot(model_history.history['loss'])\n",
        "plt.plot(model_history.history['val_loss'])\n",
        "plt.title('model loss')\n",
        "plt.ylabel('loss')\n",
        "plt.xlabel('epoch')\n",
        "plt.legend(['train', 'test'], loc='upper left')\n",
        "plt.show()"
      ],
      "execution_count": null,
      "outputs": [
        {
          "output_type": "stream",
          "text": [
            "dict_keys(['loss', 'accuracy', 'val_loss', 'val_accuracy'])\n"
          ],
          "name": "stdout"
        },
        {
          "output_type": "display_data",
          "data": {
            "image/png": "[encoded data removed]",
            "text/plain": [
              "<Figure size 432x288 with 1 Axes>"
            ]
          },
          "metadata": {
            "tags": [],
            "needs_background": "light"
          }
        },
        {
          "output_type": "display_data",
          "data": {
            "image/png": "[encoded data removed]",
            "text/plain": [
              "<Figure size 432x288 with 1 Axes>"
            ]
          },
          "metadata": {
            "tags": [],
            "needs_background": "light"
          }
        }
      ]
    }
  ]
}